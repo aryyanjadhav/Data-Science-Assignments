{
  "nbformat": 4,
  "nbformat_minor": 0,
  "metadata": {
    "colab": {
      "provenance": []
    },
    "kernelspec": {
      "name": "python3",
      "display_name": "Python 3"
    },
    "language_info": {
      "name": "python"
    }
  },
  "cells": [
    {
      "cell_type": "markdown",
      "source": [
        "# **QUESTION** **1**"
      ],
      "metadata": {
        "id": "q_a1Tzgai1hm"
      }
    },
    {
      "cell_type": "code",
      "execution_count": null,
      "metadata": {
        "id": "PvYZwkwyhSAk"
      },
      "outputs": [],
      "source": [
        "from scipy import stats\n",
        "from scipy.stats import norm"
      ]
    },
    {
      "cell_type": "code",
      "source": [
        "'''\n",
        "Since the work begins 10 minutes after the car is dropped off,\n",
        "the total time allowed for servicing is 60 - 10 = 50 minutes.\n",
        "'''"
      ],
      "metadata": {
        "colab": {
          "base_uri": "https://localhost:8080/",
          "height": 35
        },
        "id": "G5rsIpWwhjby",
        "outputId": "74107445-0568-45ae-a635-21bbb788c032"
      },
      "execution_count": null,
      "outputs": [
        {
          "output_type": "execute_result",
          "data": {
            "text/plain": [
              "'\\nSince the work begins 10 minutes after the car is dropped off,\\nthe total time allowed for servicing is 60 - 10 = 50 minutes.\\n'"
            ],
            "application/vnd.google.colaboratory.intrinsic+json": {
              "type": "string"
            }
          },
          "metadata": {},
          "execution_count": 2
        }
      ]
    },
    {
      "cell_type": "code",
      "source": [
        "#finding P(X>50)\n",
        "1-stats.norm.cdf(50,45,8) #(number,mean,std dev)"
      ],
      "metadata": {
        "colab": {
          "base_uri": "https://localhost:8080/"
        },
        "id": "_hkSiBAtiEa8",
        "outputId": "015ed0b5-f239-4109-e120-5652f64c7fa3"
      },
      "execution_count": null,
      "outputs": [
        {
          "output_type": "execute_result",
          "data": {
            "text/plain": [
              "0.26598552904870054"
            ]
          },
          "metadata": {},
          "execution_count": 7
        }
      ]
    },
    {
      "cell_type": "markdown",
      "source": [
        "# **QUESTION 2**"
      ],
      "metadata": {
        "id": "YLnlWnOWi7dM"
      }
    },
    {
      "cell_type": "code",
      "source": [
        "# A. More employees at the processing center are older than 44 than between 38 and 44."
      ],
      "metadata": {
        "id": "L6lcqz04i9-p"
      },
      "execution_count": null,
      "outputs": []
    },
    {
      "cell_type": "code",
      "source": [
        "#P(X>44); Employees older than 44 yrs of age\n",
        "1-stats.norm.cdf(44,38,6)"
      ],
      "metadata": {
        "colab": {
          "base_uri": "https://localhost:8080/"
        },
        "id": "XKivhk1CjWxn",
        "outputId": "d44d2744-3e79-4757-df3e-9f4a61902559"
      },
      "execution_count": null,
      "outputs": [
        {
          "output_type": "execute_result",
          "data": {
            "text/plain": [
              "0.15865525393145707"
            ]
          },
          "metadata": {},
          "execution_count": 9
        }
      ]
    },
    {
      "cell_type": "code",
      "source": [
        "# P(38<X<44); Employees between 38 to 44 yrs of age\n",
        "stats.norm.cdf(44,38,6)-stats.norm.cdf(38,38,6)"
      ],
      "metadata": {
        "colab": {
          "base_uri": "https://localhost:8080/"
        },
        "id": "QKTUgOAfjkkx",
        "outputId": "ce702c1d-b6d2-4131-db9e-ba3857d7d673"
      },
      "execution_count": null,
      "outputs": [
        {
          "output_type": "execute_result",
          "data": {
            "text/plain": [
              "0.3413447460685429"
            ]
          },
          "metadata": {},
          "execution_count": 10
        }
      ]
    },
    {
      "cell_type": "code",
      "source": [
        "#As Probability of people with age between 38 to 44 (34.1344%) is higher than that of older than 44 (15.8655%), we can say that the statement is false."
      ],
      "metadata": {
        "id": "gVQtU7FSjyO3"
      },
      "execution_count": null,
      "outputs": []
    },
    {
      "cell_type": "code",
      "source": [
        "# B. A training program for employees under the age of 30 at the center would be expected to attract about 36 employees."
      ],
      "metadata": {
        "id": "XIa24WxBkl9K"
      },
      "execution_count": null,
      "outputs": []
    },
    {
      "cell_type": "code",
      "source": [
        "#P(X<30)\n",
        "S=stats.norm.cdf(30,38,6)\n",
        "S"
      ],
      "metadata": {
        "colab": {
          "base_uri": "https://localhost:8080/"
        },
        "id": "-u1JBVlGkskm",
        "outputId": "c5a8afc0-f61a-4d0b-d082-d9692d449634"
      },
      "execution_count": null,
      "outputs": [
        {
          "output_type": "execute_result",
          "data": {
            "text/plain": [
              "0.09121121972586788"
            ]
          },
          "metadata": {},
          "execution_count": 15
        }
      ]
    },
    {
      "cell_type": "code",
      "source": [
        "#finding number of employees\n",
        "400*S"
      ],
      "metadata": {
        "colab": {
          "base_uri": "https://localhost:8080/"
        },
        "id": "-XmvPgztk9pK",
        "outputId": "bc5e6599-a635-4246-fbe1-5a39262d8de0"
      },
      "execution_count": null,
      "outputs": [
        {
          "output_type": "execute_result",
          "data": {
            "text/plain": [
              "36.484487890347154"
            ]
          },
          "metadata": {},
          "execution_count": 16
        }
      ]
    },
    {
      "cell_type": "code",
      "source": [
        "#Hence the training program would attract 36 employees, hence the statement is True."
      ],
      "metadata": {
        "id": "WaGSm22_lJj2"
      },
      "execution_count": null,
      "outputs": []
    },
    {
      "cell_type": "markdown",
      "source": [
        "# **QUESTION 4**"
      ],
      "metadata": {
        "id": "bksC6K-RlScv"
      }
    },
    {
      "cell_type": "code",
      "source": [
        "stats.norm.interval(0.99,100,20)"
      ],
      "metadata": {
        "colab": {
          "base_uri": "https://localhost:8080/"
        },
        "id": "UdoR8Qh3lUlb",
        "outputId": "ded32f0f-02e2-4ef9-946e-b51b08f907db"
      },
      "execution_count": null,
      "outputs": [
        {
          "output_type": "execute_result",
          "data": {
            "text/plain": [
              "(48.48341392902199, 151.516586070978)"
            ]
          },
          "metadata": {},
          "execution_count": 17
        }
      ]
    },
    {
      "cell_type": "markdown",
      "source": [
        "# **QUESTION 5**"
      ],
      "metadata": {
        "id": "2DRIDJB0oc8K"
      }
    },
    {
      "cell_type": "code",
      "source": [
        "import numpy as np"
      ],
      "metadata": {
        "id": "9O2n_vpeobpP"
      },
      "execution_count": null,
      "outputs": []
    },
    {
      "cell_type": "code",
      "source": [
        "#getting the mean profit in Rs.\n",
        "Mean=5+7\n",
        "print('Mean in Rs.= ',Mean*45,'millions')"
      ],
      "metadata": {
        "colab": {
          "base_uri": "https://localhost:8080/"
        },
        "id": "usQAgfUZpqow",
        "outputId": "b76fad2b-6218-4cc9-8baf-056cea64586f"
      },
      "execution_count": null,
      "outputs": [
        {
          "output_type": "stream",
          "name": "stdout",
          "text": [
            "Mean in Rs.=  540 millions\n"
          ]
        }
      ]
    },
    {
      "cell_type": "code",
      "source": [
        "#std dev in Rs.\n",
        "std=np.sqrt((3**2)+(4**2))\n",
        "print('std dev in Rs.= ',std*45,'millions')"
      ],
      "metadata": {
        "colab": {
          "base_uri": "https://localhost:8080/"
        },
        "id": "ASmWCXgsp9ha",
        "outputId": "71ba5ef0-96c2-46ec-b823-612c33c8512c"
      },
      "execution_count": null,
      "outputs": [
        {
          "output_type": "stream",
          "name": "stdout",
          "text": [
            "std dev in Rs.=  225.0 millions\n"
          ]
        }
      ]
    },
    {
      "cell_type": "code",
      "source": [
        "# A. Specify a Rupee range (centered on the mean) such that it contains 95% probability for the annual profit of the company.\n",
        "print('Range in Rs.= ',(stats.norm.interval(0.95,540,225)),'millions')"
      ],
      "metadata": {
        "colab": {
          "base_uri": "https://localhost:8080/"
        },
        "id": "WmT96J-Bq8qb",
        "outputId": "b4fb7542-1279-407f-ae6d-13105e85ff28"
      },
      "execution_count": null,
      "outputs": [
        {
          "output_type": "stream",
          "name": "stdout",
          "text": [
            "Range in Rs.=  (99.00810347848784, 980.9918965215122) millions\n"
          ]
        }
      ]
    },
    {
      "cell_type": "code",
      "source": [
        "# B. Specify the 5th percentile of profit (in Rupees) for the company\n",
        "#5th Percentile = X=μ + Zσ; wherein from z table, 5 percentile = -1.645\n",
        "X= 540+(-1.645)*(225)\n",
        "print('5th percentile of profit in Rs.= ',np.round(X,),'millions')"
      ],
      "metadata": {
        "colab": {
          "base_uri": "https://localhost:8080/"
        },
        "id": "mabYEsTjrPAH",
        "outputId": "0a45c6d5-e852-4f5b-bbfb-ace6355abdb1"
      },
      "execution_count": null,
      "outputs": [
        {
          "output_type": "stream",
          "name": "stdout",
          "text": [
            "5th percentile of profit in Rs.=  170.0 millions\n"
          ]
        }
      ]
    },
    {
      "cell_type": "code",
      "source": [
        "# C. Which of the two divisions has a larger probability of making a loss in a given year?"
      ],
      "metadata": {
        "id": "xkTIv_3DsPwD"
      },
      "execution_count": null,
      "outputs": []
    },
    {
      "cell_type": "code",
      "source": [
        "#P(devision1 X<0)\n",
        "stats.norm.cdf(0,5,3)"
      ],
      "metadata": {
        "colab": {
          "base_uri": "https://localhost:8080/"
        },
        "id": "bYlAxPbAshhZ",
        "outputId": "fc8e12f3-14b2-40f0-f415-75816f244adf"
      },
      "execution_count": null,
      "outputs": [
        {
          "output_type": "execute_result",
          "data": {
            "text/plain": [
              "0.0477903522728147"
            ]
          },
          "metadata": {},
          "execution_count": 29
        }
      ]
    },
    {
      "cell_type": "code",
      "source": [
        "#P(devision2 X<0)\n",
        "stats.norm.cdf(0,7,4)"
      ],
      "metadata": {
        "colab": {
          "base_uri": "https://localhost:8080/"
        },
        "id": "G3jfKl0Nspr9",
        "outputId": "54152b24-95db-4fbc-b72a-3dc7a6719e29"
      },
      "execution_count": null,
      "outputs": [
        {
          "output_type": "execute_result",
          "data": {
            "text/plain": [
              "0.040059156863817086"
            ]
          },
          "metadata": {},
          "execution_count": 30
        }
      ]
    },
    {
      "cell_type": "code",
      "source": [
        "#Probability of devision1 going into loss is more than the second."
      ],
      "metadata": {
        "id": "wEZRU_cZsx50"
      },
      "execution_count": null,
      "outputs": []
    }
  ]
}