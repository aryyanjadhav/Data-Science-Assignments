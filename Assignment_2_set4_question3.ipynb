{
  "nbformat": 4,
  "nbformat_minor": 0,
  "metadata": {
    "colab": {
      "provenance": []
    },
    "kernelspec": {
      "name": "python3",
      "display_name": "Python 3"
    },
    "language_info": {
      "name": "python"
    }
  },
  "cells": [
    {
      "cell_type": "code",
      "execution_count": 1,
      "metadata": {
        "id": "XF_aBtkcUD1U"
      },
      "outputs": [],
      "source": [
        "from scipy import stats\n",
        "from scipy.stats import norm"
      ]
    },
    {
      "cell_type": "code",
      "source": [
        "'''\n",
        "there will be no investigation: P(45<x<55)\n",
        "there will be investigation: 1-P(45<x<55)\n",
        "'''"
      ],
      "metadata": {
        "colab": {
          "base_uri": "https://localhost:8080/",
          "height": 35
        },
        "id": "Dyw1t7xtUUJl",
        "outputId": "9c9d8d2d-2b57-49ca-a30c-d1a7bca93f09"
      },
      "execution_count": 13,
      "outputs": [
        {
          "output_type": "execute_result",
          "data": {
            "text/plain": [
              "'\\nthere will be no investigation: P(45<x<55)\\nthere will be investigation: 1-P(45<x<55)\\n'"
            ],
            "application/vnd.google.colaboratory.intrinsic+json": {
              "type": "string"
            }
          },
          "metadata": {},
          "execution_count": 13
        }
      ]
    },
    {
      "cell_type": "code",
      "source": [
        "#calculating z-scores for x=45 and x=55\n",
        "print('z(x=45)= ',(45-50)/(40/100**0.5))\n",
        "print('z(x=55)= ',(55-50)/(40/100**0.5))"
      ],
      "metadata": {
        "colab": {
          "base_uri": "https://localhost:8080/"
        },
        "id": "F0PurUiZXyLz",
        "outputId": "cd7a91e9-8855-4988-f6a7-490b742d1c09"
      },
      "execution_count": 12,
      "outputs": [
        {
          "output_type": "stream",
          "name": "stdout",
          "text": [
            "z(x=45)=  -1.25\n",
            "z(x=55)=  1.25\n"
          ]
        }
      ]
    },
    {
      "cell_type": "code",
      "source": [
        "#calculation for P(45<x<55)\n",
        "a=stats.norm.cdf(1.25)-stats.norm.cdf(-1.25)\n",
        "a"
      ],
      "metadata": {
        "colab": {
          "base_uri": "https://localhost:8080/"
        },
        "id": "MSKo8juJYcC6",
        "outputId": "e8e97e10-7cf8-4cf0-e0fc-0cebd20ee752"
      },
      "execution_count": 15,
      "outputs": [
        {
          "output_type": "execute_result",
          "data": {
            "text/plain": [
              "0.7887004526662893"
            ]
          },
          "metadata": {},
          "execution_count": 15
        }
      ]
    },
    {
      "cell_type": "code",
      "source": [
        "#calculation for probability of investigation\n",
        "1-a"
      ],
      "metadata": {
        "colab": {
          "base_uri": "https://localhost:8080/"
        },
        "id": "pH3XWzIoYrYy",
        "outputId": "01a378db-beaf-4077-eb01-b2e3735f38cc"
      },
      "execution_count": 18,
      "outputs": [
        {
          "output_type": "execute_result",
          "data": {
            "text/plain": [
              "0.2112995473337107"
            ]
          },
          "metadata": {},
          "execution_count": 18
        }
      ]
    },
    {
      "cell_type": "code",
      "source": [
        "#n = (z * σ / E)^2\n",
        "(1.96 * 40 / 5)**2\n",
        "#this value can be approximated to 250."
      ],
      "metadata": {
        "colab": {
          "base_uri": "https://localhost:8080/"
        },
        "id": "rutoCrvLZkR5",
        "outputId": "5718d55d-967e-46bb-a0a3-f1f9630a159e"
      },
      "execution_count": 21,
      "outputs": [
        {
          "output_type": "execute_result",
          "data": {
            "text/plain": [
              "245.86240000000004"
            ]
          },
          "metadata": {},
          "execution_count": 21
        }
      ]
    }
  ]
}